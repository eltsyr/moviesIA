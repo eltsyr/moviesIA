{
 "cells": [
  {
   "cell_type": "code",
   "execution_count": 1,
   "metadata": {
    "collapsed": true
   },
   "outputs": [],
   "source": [
    "import csv\n",
    "import numpy as np\n",
    "import pandas as pd\n",
    "import matplotlib.pyplot as plt\n",
    "\n",
    "#chargement fichiers\n",
    "dfa_full = pd.read_csv(\"AllMoviesDetailsCleaned.csv\", sep=\";\", low_memory=False, parse_dates=[\"release_date\"])\n",
    "dfb_full = pd.read_csv(\"AllMoviesCastingRaw.csv\", sep=\";\", low_memory=False)"
   ]
  },
  {
   "cell_type": "code",
   "execution_count": 2,
   "metadata": {},
   "outputs": [],
   "source": [
    "#Fusion fichiers par ids communes\n",
    "df_full = pd.merge(dfa_full, dfb_full, on='id')\n",
    "#Création fichier avec les seules données pertinentes\n",
    "df_rel = df_full[['id','director_name','release_date', 'spoken_languages','vote_count','genres']].sort_values(by='director_name',ascending=True)"
   ]
  },
  {
   "cell_type": "code",
   "execution_count": 3,
   "metadata": {},
   "outputs": [],
   "source": [
    "#Les 01-01-1900 sont aussi visiblement une valeur par défaut chez TMDB, on defaulte à 01-01-1800\n",
    "serie = df_rel['release_date']==pd.Timestamp('1900-01-01')\n",
    "df_rel.loc[serie,'release_date']=pd.Timestamp('1800-01-01')\n",
    "\n",
    "#on defaulte à 01-01-1800 les valeurs nulles\n",
    "serie = pd.isnull(df_rel['release_date'])\n",
    "df_rel.loc[serie,'release_date']=pd.Timestamp('1800-01-01')"
   ]
  },
  {
   "cell_type": "code",
   "execution_count": 4,
   "metadata": {},
   "outputs": [],
   "source": [
    "#extraction de l'année et réindexation\n",
    "df_rel['release_date2']=df_rel['release_date'].map(lambda x:x.year)\n",
    "#On réindexe\n",
    "df_rel2 = df_rel.reset_index(drop = True)"
   ]
  },
  {
   "cell_type": "code",
   "execution_count": 6,
   "metadata": {
    "scrolled": true
   },
   "outputs": [],
   "source": [
    "#calcul du temps moyen entre films\n",
    "df = df_rel2\n",
    "#valeurs retenues pour chaque réal: nombre de films, liste des années de sortie des films\n",
    "dir_time=dict()\n",
    "x = 0\n",
    "#parcours de la liste de réals\n",
    "while x < len(df):\n",
    "    dir_name = df.loc[x,'director_name']\n",
    "    dir_time[dir_name] = {'movie_nb':0,'movie_nb_inclnodate':0, 'vote_cumul':0, 'dates':[]}\n",
    "    #les réals sont par ordre alphabétique, on parcourt la liste de films de chacun\n",
    "    while df.loc[x,'director_name'] == dir_name :\n",
    "        dir_time[dir_name]['movie_nb_inclnodate'] +=1\n",
    "        dir_time[dir_name]['vote_cumul'] +=df.loc[x,'vote_count']\n",
    "        if df.loc[x,'release_date2']!=1800:\n",
    "            dir_time[dir_name]['movie_nb'] +=1\n",
    "            #on ajoute la date à la liste si elle n'y est pas déjà\n",
    "            if df.loc[x,'release_date2'] not in dir_time[dir_name]['dates']:\n",
    "                dir_time[dir_name]['dates'].append(df.loc[x,'release_date2'])\n",
    "            \n",
    "        x += 1\n",
    "        if x == len(df):\n",
    "            break\n",
    "\n",
    "#CALCUL DE LA MOYENNE\n",
    "for key in dir_time:\n",
    "    #valeur par défaut de 2 ans pour le 1er film\n",
    "    if dir_time[key]['movie_nb']>0:\n",
    "        min_date = min(dir_time[key]['dates'])\n",
    "        max_date = max(dir_time[key]['dates'])\n",
    "        avg=round((max_date - min_date + 2) / dir_time[key]['movie_nb'], 1)\n",
    "    \n",
    "    #valeur par défaut de 2 ans si les release_dates sont toutes defaultées\n",
    "    else:\n",
    "        min_date = 1800\n",
    "        max_date = 1800\n",
    "        avg=2\n",
    "        \n",
    "    #piste d'audit\n",
    "    dir_time[key]['min_date']=min_date\n",
    "    dir_time[key]['max_date']=max_date\n",
    "    dir_time[key]['avg']=avg\n",
    "\n"
   ]
  },
  {
   "cell_type": "code",
   "execution_count": 7,
   "metadata": {},
   "outputs": [],
   "source": [
    "with open('dir_avgtime2.csv','w',encoding='utf-8') as file:\n",
    "    writer = csv.writer(file, delimiter=';', lineterminator='\\n')\n",
    "    writer.writerow(('director_name', 'avg_time', 'min_date', 'max_date', 'movie_nb', 'vote_cumul'))\n",
    "    for director_name in dir_time:\n",
    "        d = dir_time[director_name]\n",
    "        writer.writerow((director_name, d[\"avg\"], d[\"min_date\"], d[\"max_date\"],d[\"movie_nb\"],d[\"vote_cumul\"]))"
   ]
  },
  {
   "cell_type": "code",
   "execution_count": null,
   "metadata": {
    "collapsed": true
   },
   "outputs": [],
   "source": []
  }
 ],
 "metadata": {
  "kernelspec": {
   "display_name": "Python 3",
   "language": "python",
   "name": "python3"
  },
  "language_info": {
   "codemirror_mode": {
    "name": "ipython",
    "version": 3
   },
   "file_extension": ".py",
   "mimetype": "text/x-python",
   "name": "python",
   "nbconvert_exporter": "python",
   "pygments_lexer": "ipython3",
   "version": "3.6.1"
  }
 },
 "nbformat": 4,
 "nbformat_minor": 2
}

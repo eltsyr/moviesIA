{
 "cells": [
  {
   "cell_type": "code",
   "execution_count": 1,
   "metadata": {
    "collapsed": true
   },
   "outputs": [],
   "source": [
    "import csv\n",
    "import numpy as np\n",
    "import pandas as pd\n",
    "import matplotlib.pyplot as plt\n",
    "\n",
    "#chargement fichiers\n",
    "dfa_full = pd.read_csv(\"AllMoviesDetailsCleaned.csv\", sep=\";\", low_memory=False, parse_dates=[\"release_date\"])\n",
    "dfb_full = pd.read_csv(\"AllMoviesCastingRaw.csv\", sep=\";\", low_memory=False)"
   ]
  },
  {
   "cell_type": "code",
   "execution_count": 2,
   "metadata": {
    "collapsed": true
   },
   "outputs": [],
   "source": [
    "#Fusion fichiers par ids communes\n",
    "df_full = pd.merge(dfa_full, dfb_full, on='id')\n",
    "#Création fichier avec les seules données pertinentes\n",
    "df_rel = df_full[['id','director_name','release_date']].sort_values(by='director_name',ascending=True)\n"
   ]
  },
  {
   "cell_type": "code",
   "execution_count": 4,
   "metadata": {},
   "outputs": [],
   "source": [
    "df_rel = df_rel.fillna('0')\n",
    "df_rel['release_date']=df_rel['release_date'].map(lambda x:x.year)\n",
    "#On réindexe\n",
    "df_rel2 = df_rel.reset_index(drop = True)"
   ]
  },
  {
   "cell_type": "code",
   "execution_count": 14,
   "metadata": {
    "collapsed": true,
    "scrolled": true
   },
   "outputs": [],
   "source": [
    "#calcul du temps moyen entre films\n",
    "df = df_rel2\n",
    "#valeurs retenues pour chaque réal: nombre de films, liste des années de sortie des films\n",
    "dir_time={}\n",
    "x = 0\n",
    "#parcours de la liste de réals\n",
    "while x < len(df):\n",
    "    dir_name = df.loc[x,'director_name']\n",
    "    dir_time[dir_name] = {'movie_nb':0, 'dates':[]}\n",
    "    #les réals sont par ordre alphabétique, on parcourt la liste de films de chacun\n",
    "    while df.loc[x,'director_name'] == dir_name :\n",
    "        dir_time[dir_name]['movie_nb'] +=1\n",
    "        #on ajoute la date à la liste si elle n'y est pas déjà\n",
    "        if df.loc[x,'release_date'] not in dir_time[dir_name]['dates']:\n",
    "            dir_time[dir_name]['dates'].append(df.loc[x,'release_date'])\n",
    "        x += 1\n",
    "        if x == len(df):\n",
    "            break\n",
    "#print(x)\n",
    "#print(dir_time)\n",
    "\n",
    "dir_avg = {}\n",
    "for key in dir_time:\n",
    "    # temps entre films: valeur de 2 ans par défaut\n",
    "    if dir_time[key]['movie_nb'] == 1:\n",
    "            dir_avg[key] = 2.0\n",
    "            avg = 2\n",
    "            min_date = min(dir_time[key]['dates'])\n",
    "            max_date = max(dir_time[key]['dates'])\n",
    "    #sinon: \n",
    "    else:\n",
    "        min_date = min(dir_time[key]['dates'])\n",
    "        max_date = max(dir_time[key]['dates'])\n",
    "        movie_nb = dir_time[key]['movie_nb']\n",
    "        #valeur par défaut de 2 ans pour le premier film\n",
    "        dir_avg[key] = round((max_date - min_date + 2) / movie_nb, 1)\n",
    "        avg=dir_avg[key]\n",
    "        \n",
    "    #piste d'audit\n",
    "    dir_time[key]['min_date']=min_date\n",
    "    dir_time[key]['max_date']=max_date\n",
    "    dir_time[key]['avg']=avg\n",
    "\n"
   ]
  },
  {
   "cell_type": "code",
   "execution_count": null,
   "metadata": {
    "collapsed": true
   },
   "outputs": [],
   "source": [
    "with open('dir_avgtime.csv','w',encoding='utf-8') as file:\n",
    "    writer = csv.writer(file, delimiter=';', lineterminator='\\n')\n",
    "    writer.writerow(('director_name', 'avg_time'))\n",
    "    for director_name in dir_avg:\n",
    "        row=[director_name,dir_avg[director_name]]\n",
    "        writer.writerow(row)\n"
   ]
  },
  {
   "cell_type": "code",
   "execution_count": 16,
   "metadata": {
    "collapsed": true
   },
   "outputs": [],
   "source": [
    "with open('dir_avgtime2.csv','w',encoding='utf-8') as file:\n",
    "    writer = csv.writer(file, delimiter=';', lineterminator='\\n')\n",
    "    writer.writerow(('director_name', 'avg_time', 'min_date', 'max_date', 'movie_nb'))\n",
    "    for director_name in dir_time:\n",
    "        d = dir_time[director_name]\n",
    "        writer.writerow((director_name, d[\"avg\"], d[\"min_date\"], d[\"max_date\"],d[\"movie_nb\"] ))"
   ]
  },
  {
   "cell_type": "code",
   "execution_count": null,
   "metadata": {
    "collapsed": true
   },
   "outputs": [],
   "source": []
  }
 ],
 "metadata": {
  "kernelspec": {
   "display_name": "Python 3",
   "language": "python",
   "name": "python3"
  },
  "language_info": {
   "codemirror_mode": {
    "name": "ipython",
    "version": 3
   },
   "file_extension": ".py",
   "mimetype": "text/x-python",
   "name": "python",
   "nbconvert_exporter": "python",
   "pygments_lexer": "ipython3",
   "version": "3.6.1"
  }
 },
 "nbformat": 4,
 "nbformat_minor": 2
}

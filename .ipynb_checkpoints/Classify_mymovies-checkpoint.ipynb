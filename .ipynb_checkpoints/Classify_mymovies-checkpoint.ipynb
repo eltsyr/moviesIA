{
 "cells": [
  {
   "cell_type": "code",
   "execution_count": 1,
   "metadata": {
    "collapsed": true
   },
   "outputs": [],
   "source": [
    "import numpy as np\n",
    "import pandas as pd\n",
    "import datetime"
   ]
  },
  {
   "cell_type": "code",
   "execution_count": 2,
   "metadata": {
    "collapsed": true
   },
   "outputs": [],
   "source": [
    "# Chargement du fichier dans un dataframe\n",
    "df = pd.read_csv(\"MyMoviesDetailsCastingRaw.csv\", sep=\";\", \n",
    "                 parse_dates=[\"viewing_date\", \"release_date\"], \n",
    "                 decimal = \",\")\n",
    "# On remplit les vides avec 0\n",
    "df = df.fillna(\"0\")\n",
    "\n",
    "# On convertit les types \"objets\" en entiers ou décimaux selon\n",
    "df['imdb_rating'] = df['imdb_rating'].astype(float)\n",
    "df['vote_average'] = df['vote_average'].astype(float)\n",
    "df['vote_count'] = df['vote_count'].astype(int)\n",
    "df['personal_rating'] = df['personal_rating'].astype(int)\n",
    "df['budget'] = df['budget'].astype(float)\n",
    "df['revenue'] = df['revenue'].astype(float)\n",
    "df['runtime'] = df['runtime'].astype(int)\n",
    "df['production_countries_number'] = df['production_countries_number'].astype(int)\n",
    "df['production_companies_number'] = df['production_companies_number'].astype(int)\n",
    "df['actor_number'] = df['actor_number'].astype(int)\n",
    "df['director_number'] = df['director_number'].astype(int)\n",
    "df['producer_number'] = df['producer_number'].astype(int)\n",
    "df['genre_number'] = df['genre_number'].astype(int)\n",
    "\n",
    "# On multiplie mes notes par 2 pour être homogène à une note sur 10\n",
    "df['personal_rating'] = df['personal_rating']*2"
   ]
  },
  {
   "cell_type": "code",
   "execution_count": 3,
   "metadata": {
    "collapsed": true
   },
   "outputs": [],
   "source": [
    "#On vite les colonnes inutiles & les lignes sans ID tmdb donc inexploitables\n",
    "df.drop(df[df[\"tmdb_id\"]==\"0\"].index,inplace=True)\n",
    "df.drop(df[df[\"director\"]==\"0\"].index,inplace=True)\n",
    "df.drop(\"children\",axis=1,inplace=True)\n",
    "df.drop(\"tmdb_id\",axis=1,inplace=True)\n",
    "df.drop(\"original_title\",axis=1,inplace=True)\n",
    "df.drop(\"viewing_date\",axis=1,inplace=True)\n",
    "df.drop(\"budget\",axis=1,inplace=True)\n",
    "df.drop(\"revenue\",axis=1,inplace=True)\n",
    "df.drop(\"imdb_rating\",axis=1,inplace=True)\n",
    "df.drop(\"imdb_id\",axis=1,inplace=True)\n",
    "df.drop(\"production_countries_number\",axis=1,inplace=True)\n",
    "df.drop(\"production_company\",axis=1,inplace=True)\n",
    "df.drop(\"production_companies_number\",axis=1,inplace=True)\n",
    "df.drop(\"director_number\",axis=1,inplace=True)\n",
    "df.drop(\"producer\",axis=1,inplace=True)\n",
    "df.drop(\"producer_number\",axis=1,inplace=True)\n",
    "df['release_year'] = pd.DatetimeIndex(df['release_date']).year\n",
    "df.drop(\"release_date\",axis=1,inplace=True)\n",
    "\n",
    "\n",
    "#On remplace les notes TMDB nulles par la moyenne = 6.84 (<10% des films sont concernés)\n",
    "df.loc[df[\"vote_average\"]==0,\"vote_average\"] = 6.8\n",
    "\n",
    "#On ajoute en attribut le nb de films vus du même directeur (leakage ?)\n",
    "df2 = df.groupby(\"director\",as_index=False).count().loc[:,[\"director\",\"title\"]]\n",
    "df2.rename(columns = {'title':'movies_same_director_watched'}, inplace = True)\n",
    "df=pd.merge(df,df2,on=\"director\")"
   ]
  },
  {
   "cell_type": "markdown",
   "metadata": {},
   "source": [
    "# Premier essai : ma note binaire (\"liked\")"
   ]
  },
  {
   "cell_type": "code",
   "execution_count": 4,
   "metadata": {
    "collapsed": true
   },
   "outputs": [],
   "source": [
    "#On binarise ma note >5 = j'ai aimé, sinon non\n",
    "df[\"liked\"]=0\n",
    "df.loc[df[\"personal_rating\"]>5,\"liked\"]=1\n",
    "\n",
    "#On nettoie les dernières colonnes avant l'algo de classif\n",
    "df.drop(\"personal_rating\",axis=1,inplace=True)\n",
    "df.drop(\"director\",axis=1,inplace=True)"
   ]
  },
  {
   "cell_type": "code",
   "execution_count": 5,
   "metadata": {
    "collapsed": true
   },
   "outputs": [],
   "source": [
    "#Fonction qui permet de mesurer l'importance de la feature dans le fait que j'aime un film ou pas (en %)\n",
    "def compare(feature,df):\n",
    "    return df.groupby(feature)[\"liked\"].sum()*100/df.groupby(feature)[\"liked\"].count()\n",
    "\n",
    "#Fonction pour encoder les features catégorielles (on crée une colonne avec le suffixe_code)\n",
    "def encode(feature,df) :\n",
    "    df[feature] = pd.Categorical(df[feature])\n",
    "    df[feature+\"_code\"] = df[feature].cat.codes\n",
    "    return df"
   ]
  },
  {
   "cell_type": "code",
   "execution_count": 6,
   "metadata": {
    "collapsed": true
   },
   "outputs": [],
   "source": [
    "#On encore les features de type \"catégories\"\n",
    "df = encode(\"original_language\",df)\n",
    "df = encode(\"production_country\",df)\n",
    "df = encode(\"genre\",df)"
   ]
  },
  {
   "cell_type": "code",
   "execution_count": 7,
   "metadata": {
    "collapsed": true
   },
   "outputs": [],
   "source": [
    "#On splitte le dataset en 2 dataset : 80% pour entrainer le model, 20% pour le test\n",
    "from sklearn.model_selection import train_test_split\n",
    "train,test = train_test_split(df,test_size=0.2)"
   ]
  },
  {
   "cell_type": "code",
   "execution_count": 12,
   "metadata": {},
   "outputs": [
    {
     "data": {
      "text/plain": [
       "array([ 0.23799687,  0.37883582,  0.15923009,  0.05065876,  0.08036585,\n",
       "        0.09291261])"
      ]
     },
     "execution_count": 12,
     "metadata": {},
     "output_type": "execute_result"
    }
   ],
   "source": [
    "#On entraine l'arbre\n",
    "from sklearn.tree import DecisionTreeClassifier\n",
    "features = ['vote_count', 'vote_average','release_year', 'movies_same_director_watched','original_language_code','genre_code']\n",
    "clf = DecisionTreeClassifier(max_leaf_nodes=20)\n",
    "clf = clf.fit(train[features],train[\"liked\"])\n",
    "#Quel rôle joue chaque feature dans la décision de classification ?\n",
    "clf.feature_importances_"
   ]
  },
  {
   "cell_type": "code",
   "execution_count": 13,
   "metadata": {
    "collapsed": true
   },
   "outputs": [],
   "source": [
    "#Affichage de l'arbre\n",
    "from sklearn import tree\n",
    "with open(\"classify.dot\",\"w\") as f:\n",
    "    f=tree.export_graphviz(clf,feature_names=features,out_file=f)\n",
    "#installer ensuite le programme GRAPHVIZ et ouvrir le fichier classify.dot avec le programme gvedit.exe"
   ]
  },
  {
   "cell_type": "code",
   "execution_count": 14,
   "metadata": {},
   "outputs": [
    {
     "data": {
      "text/plain": [
       "0.62303664921465973"
      ]
     },
     "execution_count": 14,
     "metadata": {},
     "output_type": "execute_result"
    }
   ],
   "source": [
    "#On teste l'accurancy du modèle\n",
    "predictions = clf.predict(test[features])\n",
    "from sklearn.metrics import accuracy_score\n",
    "accuracy_score(test[\"liked\"],predictions)"
   ]
  },
  {
   "cell_type": "code",
   "execution_count": 15,
   "metadata": {},
   "outputs": [
    {
     "data": {
      "text/plain": [
       "DecisionTreeClassifier(class_weight=None, criterion='gini', max_depth=None,\n",
       "            max_features=None, max_leaf_nodes=20, min_impurity_split=1e-07,\n",
       "            min_samples_leaf=1, min_samples_split=2,\n",
       "            min_weight_fraction_leaf=0.0, presort=False, random_state=None,\n",
       "            splitter='best')"
      ]
     },
     "execution_count": 15,
     "metadata": {},
     "output_type": "execute_result"
    }
   ],
   "source": [
    "clf"
   ]
  },
  {
   "cell_type": "code",
   "execution_count": null,
   "metadata": {
    "collapsed": true
   },
   "outputs": [],
   "source": []
  }
 ],
 "metadata": {
  "kernelspec": {
   "display_name": "Python 3",
   "language": "python",
   "name": "python3"
  },
  "language_info": {
   "codemirror_mode": {
    "name": "ipython",
    "version": 3
   },
   "file_extension": ".py",
   "mimetype": "text/x-python",
   "name": "python",
   "nbconvert_exporter": "python",
   "pygments_lexer": "ipython3",
   "version": "3.6.1"
  }
 },
 "nbformat": 4,
 "nbformat_minor": 2
}

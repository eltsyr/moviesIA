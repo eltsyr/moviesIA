{
 "cells": [
  {
   "cell_type": "code",
   "execution_count": 1,
   "metadata": {},
   "outputs": [
    {
     "name": "stdout",
     "output_type": "stream",
     "text": [
      "['director_name' 'movie_nb' 'min_date' 'max_date' 'career_middle_date'\n",
      " 'avg_time' 'id' 'vote_count' 'release_date2' 'Drama' 'Crime' 'Action'\n",
      " 'Documentary' 'Adventure' 'Animation' 'Comedy' 'Mystery' 'Horror'\n",
      " 'Western' 'Science Fiction' 'Thriller' 'Romance' 'Fantasy' 'War' 'Family'\n",
      " 'Music' 'History' 'TV Movie' 'Foreign' 'en' 'de' 'fr' 'es' 'pt' 'ja' 'it'\n",
      " 'zh' 'sv' 'da' 'other']\n"
     ]
    }
   ],
   "source": [
    "import csv\n",
    "import numpy as np\n",
    "import pandas as pd\n",
    "import matplotlib.pyplot as plt\n",
    "from sklearn.cluster import KMeans\n",
    "from sklearn.preprocessing import StandardScaler\n",
    "from sklearn.pipeline import make_pipeline\n",
    "\n",
    "#Données dans un dataframe\n",
    "df_real = pd.read_csv(\"director_avg.csv\", sep=\";\", low_memory=False)\n",
    "#on enlève la colonne inutile\n",
    "df_real.drop('movie_nb_inclnodate', axis=1, inplace=True)\n",
    "#pour info\n",
    "print(df_real.columns.values)"
   ]
  },
  {
   "cell_type": "code",
   "execution_count": 2,
   "metadata": {},
   "outputs": [
    {
     "name": "stdout",
     "output_type": "stream",
     "text": [
      "[[      4    1994    2002    1998       2  997150       0    7986       0\n",
      "        0       1       0       0       0       1       0       0       0\n",
      "        0       0       1       0       0       0       0       0       0\n",
      "        0       4       0       0       0       0       0       0       0\n",
      "        0       0       0]\n",
      " [      1    1986    1986    1986       2   64315       0    1986       1\n",
      "        0       0       0       0       0       1       0       0       0\n",
      "        0       0       0       0       0       0       0       0       0\n",
      "        0       0       0       0       0       0       0       0       0\n",
      "        0       0       1]\n",
      " [      5    1985    2005    1995       4 1508480       1    9973       3\n",
      "        0       0       0       0       0       0       0       0       0\n",
      "        0       0       1       1       0       0       0       0       0\n",
      "        0       1       0       0       0       0       0       0       3\n",
      "        0       0       1]\n",
      " [      3    2005    2008    2006       1  658932       1    6019       0\n",
      "        0       0       0       0       0       0       0       1       0\n",
      "        0       0       0       0       0       0       0       0       0\n",
      "        0       1       0       0       0       0       0       0       2\n",
      "        0       0       0]\n",
      " [      2    2011    2013    2012       2  406992       2    4024       0\n",
      "        0       0       2       0       0       0       0       0       0\n",
      "        0       0       0       0       0       0       0       0       0\n",
      "        0       2       0       0       0       0       0       0       0\n",
      "        0       0       0]\n",
      " [      2    2010    2013    2011       2  608960       2    4023       0\n",
      "        0       0       0       0       0       0       0       0       0\n",
      "        0       0       0       0       0       1       0       0       1\n",
      "        0       0       0       0       0       0       0       0       0\n",
      "        0       0       2]\n",
      " [      1    2012    2012    2012       2  114961      12    2012       1\n",
      "        0       0       0       0       0       0       1       0       0\n",
      "        0       1       0       0       0       0       0       0       0\n",
      "        0       1       0       0       0       0       0       0       0\n",
      "        0       0       0]\n",
      " [      1    2006    2006    2006       2   75307       1    2006       0\n",
      "        0       0       0       0       0       1       0       0       0\n",
      "        0       0       0       0       0       0       0       0       0\n",
      "        0       1       0       0       0       0       0       0       0\n",
      "        0       0       0]\n",
      " [      6    1986    2001    1993       2 1133318       6   11964       3\n",
      "        1       3       0       0       0       1       0       0       0\n",
      "        0       2       2       0       0       0       0       0       0\n",
      "        0       5       1       0       0       0       0       0       0\n",
      "        0       0       0]\n",
      " [      2    1998    2012    2005       8  530367      12    4010       1\n",
      "        0       0       0       0       0       1       0       0       0\n",
      "        0       0       0       0       0       0       0       0       0\n",
      "        0       2       0       0       0       0       0       0       0\n",
      "        0       0       0]\n",
      " [     21    1969    1994    1981       1 4659825      28   41592       8\n",
      "        3       2       0       2       0       3       3       2       2\n",
      "        1       7       3       1       0       0       0       1       3\n",
      "        0      21       0       0       0       0       0       0       0\n",
      "        0       0       0]\n",
      " [      1    2008    2008    2008       2   54258       2    2008       0\n",
      "        0       0       0       0       0       1       1       0       0\n",
      "        0       0       0       0       0       1       0       0       0\n",
      "        0       1       0       0       0       0       0       0       0\n",
      "        0       0       0]\n",
      " [      1    2011    2011    2011       2   94886       1    2011       1\n",
      "        0       0       0       0       0       1       0       0       0\n",
      "        0       0       0       0       0       0       0       0       0\n",
      "        0       1       0       0       0       0       0       0       0\n",
      "        0       0       0]\n",
      " [      1    2010    2010    2010       2   53923      16    2010       0\n",
      "        0       1       0       0       0       0       1       1       0\n",
      "        0       0       0       0       1       0       0       0       0\n",
      "        0       0       0       1       0       0       0       0       0\n",
      "        0       0       0]\n",
      " [      1    2014    2014    2014       2  311630       0    2014       0\n",
      "        0       0       0       0       0       1       0       0       0\n",
      "        0       1       0       0       0       0       0       0       0\n",
      "        0       0       0       0       0       0       0       0       0\n",
      "        0       0       1]]\n"
     ]
    }
   ],
   "source": [
    "#df_tr = df_real[0:10000]\n",
    "df_tr = df_real\n",
    "#liste des noms de réals en numpy array\n",
    "director_names = df_tr['director_name'].values\n",
    "#Exclusion des noms de réals (non numériques) pour le travail de clustering\n",
    "df_tr2 = df_tr.iloc[:,1:]\n",
    "#convert to numpy array\n",
    "df_tr2 = df_tr2.values.astype(int)\n",
    "#pour info\n",
    "print(df_tr2[0:15])"
   ]
  },
  {
   "cell_type": "code",
   "execution_count": 3,
   "metadata": {},
   "outputs": [
    {
     "name": "stderr",
     "output_type": "stream",
     "text": [
      "C:\\Users\\rapno\\Anaconda3\\lib\\site-packages\\sklearn\\utils\\validation.py:429: DataConversionWarning: Data with input dtype int32 was converted to float64 by StandardScaler.\n",
      "  warnings.warn(msg, _DataConversionWarning)\n"
     ]
    }
   ],
   "source": [
    "#méthode de normalisation choisie sans réfléchir, à revoir\n",
    "scaler = StandardScaler()\n",
    "#On cherche 10 clusters\n",
    "model = KMeans(n_clusters=10)\n",
    "#On rassemble tout pour aller plus vite\n",
    "pipeline = make_pipeline(scaler,model)\n",
    "#on fitte les modèles aux données et on les transforme\n",
    "labels = pipeline.fit_predict(df_tr2)"
   ]
  },
  {
   "cell_type": "code",
   "execution_count": 4,
   "metadata": {},
   "outputs": [
    {
     "data": {
      "image/png": "[encoded data removed]",
      "text/plain": [
       "<matplotlib.figure.Figure at 0xcb31c18>"
      ]
     },
     "metadata": {},
     "output_type": "display_data"
    }
   ],
   "source": [
    "#on trace le graphe pour deux features, en espérant mettre en évidence les cluster (indiqués par des couleurs différentes). Pour l'instant, seulement des graphes \"plats\", donc la normalisationn'est sans doute pas bonne.\n",
    "#Features choisies ici: movie_nb en abscisse, min_date en ordonnée\n",
    "xs = df_tr2[:,0]\n",
    "ys = df_tr2[:,1]\n",
    "plt.scatter(xs,ys,c=labels)\n",
    "plt.show()"
   ]
  },
  {
   "cell_type": "code",
   "execution_count": 5,
   "metadata": {},
   "outputs": [
    {
     "name": "stdout",
     "output_type": "stream",
     "text": [
      "Dir_names  \\tCheung Chi-Sing  \\tRaymond Fung Sai-Hung   \\tHuang Jian-Zhong  \\\n",
      "labels                                                                       \n",
      "0                          0                        0                    0   \n",
      "1                          0                        0                    0   \n",
      "2                          0                        0                    0   \n",
      "3                          1                        1                    0   \n",
      "4                          0                        0                    0   \n",
      "5                          0                        0                    0   \n",
      "6                          0                        0                    0   \n",
      "7                          0                        0                    0   \n",
      "8                          0                        0                    1   \n",
      "9                          0                        0                    0   \n",
      "\n",
      "Dir_names   \\tZhang Jing      Faris Kermani    Anna van Keimpema  \\\n",
      "labels                                                             \n",
      "0                      0                   0                   0   \n",
      "1                      0                   0                   0   \n",
      "2                      0                   0                   0   \n",
      "3                      1                   1                   1   \n",
      "4                      0                   0                   0   \n",
      "5                      0                   0                   0   \n",
      "6                      0                   0                   0   \n",
      "7                      0                   0                   0   \n",
      "8                      0                   0                   0   \n",
      "9                      0                   0                   0   \n",
      "\n",
      "Dir_names   Barnaby Southcombe   Ben Caron   Dale Trevillion\\t   \\\n",
      "labels                                                            \n",
      "0                            0           0                    0   \n",
      "1                            0           0                    0   \n",
      "2                            0           0                    0   \n",
      "3                            1           1                    1   \n",
      "4                            0           0                    0   \n",
      "5                            0           0                    0   \n",
      "6                            0           0                    0   \n",
      "7                            0           0                    0   \n",
      "8                            0           0                    0   \n",
      "9                            0           0                    0   \n",
      "\n",
      "Dir_names   Davide Manuli  ...    이진주  이하  정단우  진모영  최무연  최용석  최형렬  한상호  홍헌표  \\\n",
      "labels                     ...                                                 \n",
      "0                       0  ...      0   0    0    0    0    0    0    0    0   \n",
      "1                       0  ...      0   0    0    0    0    0    0    0    0   \n",
      "2                       0  ...      1   0    0    0    0    1    0    0    0   \n",
      "3                       0  ...      0   1    1    1    1    0    1    1    1   \n",
      "4                       1  ...      0   0    0    0    0    0    0    0    0   \n",
      "5                       0  ...      0   0    0    0    0    0    0    0    0   \n",
      "6                       0  ...      0   0    0    0    0    0    0    0    0   \n",
      "7                       0  ...      0   0    0    0    0    0    0    0    0   \n",
      "8                       0  ...      0   0    0    0    0    0    0    0    0   \n",
      "9                       0  ...      0   0    0    0    0    0    0    0    0   \n",
      "\n",
      "Dir_names  Ａ．Ｋ．Ｇ  \n",
      "labels            \n",
      "0              0  \n",
      "1              0  \n",
      "2              0  \n",
      "3              1  \n",
      "4              0  \n",
      "5              0  \n",
      "6              0  \n",
      "7              0  \n",
      "8              0  \n",
      "9              0  \n",
      "\n",
      "[10 rows x 85929 columns]\n"
     ]
    }
   ],
   "source": [
    "#création de dataframe avec les labels de clusters et les noms de réals\n",
    "df_f = pd.DataFrame({'labels':labels,'Dir_names':director_names})\n",
    "#retourne un tableau avec les 10 catégories en row, les réalisateurs en colonnes, avec valeur 1 pour la catégorie à laquelle ils appartiennent. On peut en tirer les gorupes de réals mais je n'ai plus le temps.\n",
    "ct = pd.crosstab(df_f['labels'],df_f['Dir_names'])\n",
    "print(ct)"
   ]
  },
  {
   "cell_type": "code",
   "execution_count": null,
   "metadata": {
    "collapsed": true
   },
   "outputs": [],
   "source": []
  }
 ],
 "metadata": {
  "kernelspec": {
   "display_name": "Python 3",
   "language": "python",
   "name": "python3"
  },
  "language_info": {
   "codemirror_mode": {
    "name": "ipython",
    "version": 3
   },
   "file_extension": ".py",
   "mimetype": "text/x-python",
   "name": "python",
   "nbconvert_exporter": "python",
   "pygments_lexer": "ipython3",
   "version": "3.6.1"
  }
 },
 "nbformat": 4,
 "nbformat_minor": 2
}

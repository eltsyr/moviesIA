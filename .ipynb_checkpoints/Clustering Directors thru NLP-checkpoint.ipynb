{
 "cells": [
  {
   "cell_type": "code",
   "execution_count": 8,
   "metadata": {},
   "outputs": [],
   "source": [
    "import nltk\n",
    "import urllib3visible_text\n",
    "from bs4 import BeautifulSoup"
   ]
  },
  {
   "cell_type": "code",
   "execution_count": 63,
   "metadata": {
    "collapsed": true
   },
   "outputs": [],
   "source": [
    "myURL=\"https://en.wikipedia.org/w/index.php?search=steven+spielberg\"\n",
    "myURL=\"https://en.wikipedia.org/w/api.php?format=json&action=query&prop=revisions&titles=Emmanuelle_Bercot&rvprop=content&rvsection=0\""
   ]
  },
  {
   "cell_type": "code",
   "execution_count": 64,
   "metadata": {},
   "outputs": [],
   "source": [
    "http = urllib3.PoolManager()\n",
    "urllib3.disable_warnings()\n",
    "\n",
    "# Récupération du text de la page wikipedia\n",
    "r = http.request('GET', myURL)\n",
    "soup = BeautifulSoup(r.data,\"lxml\")"
   ]
  },
  {
   "cell_type": "code",
   "execution_count": 65,
   "metadata": {},
   "outputs": [],
   "source": [
    "[s.extract() for s in soup(['style', 'script', '[document]', 'head', 'title'])]\n",
    "visible_text = soup.getText()"
   ]
  },
  {
   "cell_type": "code",
   "execution_count": 69,
   "metadata": {},
   "outputs": [
    {
     "data": {
      "text/plain": [
       "'{\"batchcomplete\":\"\",\"query\":{\"normalized\":[{\"from\":\"Emmanuelle_Bercot\",\"to\":\"Emmanuelle Bercot\"}],\"pages\":{\"24735238\":{\"pageid\":24735238,\"ns\":0,\"title\":\"Emmanuelle Bercot\",\"revisions\":[{\"contentformat\":\"text/x-wiki\",\"contentmodel\":\"wikitext\",\"*\":\"{{Use dmy dates|date=April 2015}}\\\\n{{Infobox person\\\\n| image        = Emmanuelle Bercot au Festival des Busters 2017 (cropped).jpg\\\\n| caption      = Bercot at the [[2015 Cannes Film Festival]]\\\\n| name         = Emmanuelle Bercot\\\\n| birth_date   = {{Birth date and age|1967|11|6|df=yes}}\\\\n| birth_place  = [[Paris]], France\\\\n| death_date   =\\\\n| death_place  =\\\\n| occupation   = Actress, film director, screenwriter\\\\n| yearsactive  = 1991\\\\u2013present\\\\n}}\\\\n\\'\\'\\'Emmanuelle Bercot\\'\\'\\' (born 6 November 1967) is a French actress, [[film director]] and [[screenwriter]]. Her film \\'\\'[[Cl\\\\u00e9ment (film)|Cl\\\\u00e9ment]]\\'\\' was screened in the [[Un Certain Regard]] section at the [[2001 Cannes Film Festival]].{{Cite web|url=http://www.festival-cannes.com/en/archives/ficheFilm/id/1100078/year/2001.html |title=Festival de Cannes: Cl\\\\u00e9ment |accessdate=18 October 2009 |work=festival-cannes.com |deadurl=yes |archiveurl=https://web.archive.org/web/20121009002112/http://www.festival-cannes.com/en/archives/ficheFilm/id/1100078/year/2001.html |archivedate=9 October 2012 |df=dmy }} Her 2013 film \\'\\'[[On My Way (film)|On My Way]]\\'\\' premiered in competition at the [[63rd Berlin International Film Festival]].{{Cite web|url=http://www.berlinale.de/en/presse/pressemitteilungen/alle/Alle-Detail_16404.html |title=Berlinale Competition 2013: Another Nine Films Confirmed |accessdate=11 January 2013 |work=berlinale}}\\\\n\\\\nHer 2015 film \\'\\'[[Standing Tall (film)|Standing Tall]]\\'\\' was selected to open the [[2015 Cannes Film Festival]].{{cite web |url=http://www.festival-cannes.fr/en/article/61303.html |title=La T\\\\u00eate haute by Emmanuelle Bercot to open the 68th Festival de Cannes |accessdate=13 April 2015 |work=Cannes}}{{cite web|url=http://www.littlewhitelies.co.uk/features/articles/female-director-set-to-open-2015-cannes-film-festival-29816 |title=Female Director Set to Open 2015 Cannes Film Festival |accessdate=13 April 2014 |work=Little White Lies |deadurl=yes |archiveurl=https://web.archive.org/web/20150829204123/http://www.littlewhitelies.co.uk/features/articles/female-director-set-to-open-2015-cannes-film-festival-29816 |archivedate=29 August 2015 |df=dmy }} At Cannes, Bercot won the award for [[Best Actress Award (Cannes Film Festival)|Best Actress]] for her role in \\'\\'[[Mon roi]]\\'\\'.{{cite web |url=https://www.theguardian.com/film/live/2015/may/24/cannes-2015-palme-dor-announcement |title=Cannes 2015: Jacques Audiard\\'s Dheepan wins the Palme d\\'Or |author=Henry Barnes |date=24 May 2015 |accessdate=24 May 2015 |work=The Guardian}}{{cite web |url=http://www.hollywoodreporter.com/news/cannes-2015-winners-announced-797340 |title=Cannes: \\'Dheepan\\' Wins the Palme d\\'Or |author=Rebecca Ford |date=24 May 2015 |accessdate=24 May 2015 |work=The Hollywood Reporter}}\"}]}}}}'"
      ]
     },
     "execution_count": 69,
     "metadata": {},
     "output_type": "execute_result"
    }
   ],
   "source": [
    "visible_text"
   ]
  },
  {
   "cell_type": "code",
   "execution_count": 67,
   "metadata": {
    "scrolled": true
   },
   "outputs": [
    {
     "name": "stdout",
     "output_type": "stream",
     "text": [
      "<html>\n",
      " <body>\n",
      "  <p>\n",
      "   {\"batchcomplete\":\"\",\"query\":{\"normalized\":[{\"from\":\"Emmanuelle_Bercot\",\"to\":\"Emmanuelle Bercot\"}],\"pages\":{\"24735238\":{\"pageid\":24735238,\"ns\":0,\"title\":\"Emmanuelle Bercot\",\"revisions\":[{\"contentformat\":\"text/x-wiki\",\"contentmodel\":\"wikitext\",\"*\":\"{{Use dmy dates|date=April 2015}}\\n{{Infobox person\\n| image        = Emmanuelle Bercot au Festival des Busters 2017 (cropped).jpg\\n| caption      = Bercot at the [[2015 Cannes Film Festival]]\\n| name         = Emmanuelle Bercot\\n| birth_date   = {{Birth date and age|1967|11|6|df=yes}}\\n| birth_place  = [[Paris]], France\\n| death_date   =\\n| death_place  =\\n| occupation   = Actress, film director, screenwriter\\n| yearsactive  = 1991\\u2013present\\n}}\\n'''Emmanuelle Bercot''' (born 6 November 1967) is a French actress, [[film director]] and [[screenwriter]]. Her film ''[[Cl\\u00e9ment (film)|Cl\\u00e9ment]]'' was screened in the [[Un Certain Regard]] section at the [[2001 Cannes Film Festival]].\n",
      "   <ref name='\\\"festival-cannes.com\\\"'>\n",
      "    {{Cite web|url=http://www.festival-cannes.com/en/archives/ficheFilm/id/1100078/year/2001.html |title=Festival de Cannes: Cl\\u00e9ment |accessdate=18 October 2009 |work=festival-cannes.com |deadurl=yes |archiveurl=https://web.archive.org/web/20121009002112/http://www.festival-cannes.com/en/archives/ficheFilm/id/1100078/year/2001.html |archivedate=9 October 2012 |df=dmy }}\n",
      "   </ref>\n",
      "   Her 2013 film ''[[On My Way (film)|On My Way]]'' premiered in competition at the [[63rd Berlin International Film Festival]].\n",
      "   <ref name='\\\"Berlin\\\"'>\n",
      "    {{Cite web|url=http://www.berlinale.de/en/presse/pressemitteilungen/alle/Alle-Detail_16404.html |title=Berlinale Competition 2013: Another Nine Films Confirmed |accessdate=11 January 2013 |work=berlinale}}\n",
      "   </ref>\n",
      "   \\n\\nHer 2015 film ''[[Standing Tall (film)|Standing Tall]]'' was selected to open the [[2015 Cannes Film Festival]].\n",
      "   <ref name='\\\"Cannes\\\"'>\n",
      "    {{cite web |url=http://www.festival-cannes.fr/en/article/61303.html |title=La T\\u00eate haute by Emmanuelle Bercot to open the 68th Festival de Cannes |accessdate=13 April 2015 |work=Cannes}}\n",
      "   </ref>\n",
      "   <ref name='\\\"opening\\\"'>\n",
      "    {{cite web|url=http://www.littlewhitelies.co.uk/features/articles/female-director-set-to-open-2015-cannes-film-festival-29816 |title=Female Director Set to Open 2015 Cannes Film Festival |accessdate=13 April 2014 |work=Little White Lies |deadurl=yes |archiveurl=https://web.archive.org/web/20150829204123/http://www.littlewhitelies.co.uk/features/articles/female-director-set-to-open-2015-cannes-film-festival-29816 |archivedate=29 August 2015 |df=dmy }}\n",
      "   </ref>\n",
      "   At Cannes, Bercot won the award for [[Best Actress Award (Cannes Film Festival)|Best Actress]] for her role in ''[[Mon roi]]''.\n",
      "   <ref>\n",
      "    {{cite web |url=https://www.theguardian.com/film/live/2015/may/24/cannes-2015-palme-dor-announcement |title=Cannes 2015: Jacques Audiard's Dheepan wins the Palme d'Or |author=Henry Barnes |date=24 May 2015 |accessdate=24 May 2015 |work=The Guardian}}\n",
      "   </ref>\n",
      "   <ref>\n",
      "    {{cite web |url=http://www.hollywoodreporter.com/news/cannes-2015-winners-announced-797340 |title=Cannes: 'Dheepan' Wins the Palme d'Or |author=Rebecca Ford |date=24 May 2015 |accessdate=24 May 2015 |work=The Hollywood Reporter}}\n",
      "   </ref>\n",
      "   \"}]}}}}\n",
      "  </p>\n",
      " </body>\n",
      "</html>\n"
     ]
    }
   ],
   "source": [
    "print(soup.prettify())"
   ]
  },
  {
   "cell_type": "code",
   "execution_count": null,
   "metadata": {
    "collapsed": true
   },
   "outputs": [],
   "source": []
  }
 ],
 "metadata": {
  "kernelspec": {
   "display_name": "Python 3",
   "language": "python",
   "name": "python3"
  },
  "language_info": {
   "codemirror_mode": {
    "name": "ipython",
    "version": 3
   },
   "file_extension": ".py",
   "mimetype": "text/x-python",
   "name": "python",
   "nbconvert_exporter": "python",
   "pygments_lexer": "ipython3",
   "version": "3.6.1"
  }
 },
 "nbformat": 4,
 "nbformat_minor": 2
}

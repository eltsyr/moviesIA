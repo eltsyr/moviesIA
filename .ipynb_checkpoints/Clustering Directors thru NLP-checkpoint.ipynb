{
 "cells": [
  {
   "cell_type": "code",
   "execution_count": 1,
   "metadata": {},
   "outputs": [
    {
     "name": "stdout",
     "output_type": "stream",
     "text": [
      "[nltk_data] Downloading package punkt to\n",
      "[nltk_data]     C:\\Users\\rapno\\AppData\\Roaming\\nltk_data...\n",
      "[nltk_data]   Unzipping tokenizers\\punkt.zip.\n",
      "Jean Marie Maurice Sch\\u00e9rer or Maurice Henri Joseph Sch\\u00e9rer, known as \\u00c9ric Rohmer (French: [e\\u0281ik \\u0281om\\u025b\\u0281], 21 March 1920 \\u2013 11 January 2010), was a French film director, film critic, journalist, novelist, screenwriter and teacher.\\nRohmer was the last of the post-World War II, French New Wave directors to become established. He edited the influential film journal, Cahiers du cin\\u00e9ma, from 1957 to 1963, while most of his colleagues \\u2013 among them Jean-Luc Godard and Fran\\u00e7ois Truffaut \\u2013 were making the transition from film critics to filmmakers and gaining international attention.\\nRohmer gained international acclaim around 1969 when his film My Night at Maud's was nominated at the Academy Awards. He won the San Sebasti\\u00e1n International Film Festival with Claire's Knee in 1971 and the Golden Lion at the Venice Film Festival for The Green Ray in 1986. Rohmer went on to receive the Venice Film Festival's Career Golden Lion in 2001.\\nAfter Rohmer's death in 2010, his obituary in The Daily Telegraph described him as \\\"the most durable film-maker of the French New Wave\\\", outlasting his peers and \\\"still making movies the public wanted to see\\\" late in his career.\n"
     ]
    }
   ],
   "source": [
    "import requests\n",
    "import nltk\n",
    "nltk.download('punkt')\n",
    "from nltk import word_tokenize,sent_tokenize\n",
    "\n",
    "director = \"eric rohmer\"\n",
    "\n",
    "# Récupération de la page exacte wikipedia (après redirection) à partir du nom de l'auteur non normalisé\n",
    "director.replace(\" \",\"+\")\n",
    "mysearchURL = \"https://en.wikipedia.org/w/index.php?search=\"+director\n",
    "mysummaryURL = \"https://en.wikipedia.org/w/api.php?format=json&action=query&prop=extracts&redirects=true&exintro&explaintext&titles=\"\n",
    "http = requests.get(mysearchURL)\n",
    "#On vire les 30 premiers caractères pour trouver le nom normalisé de l'auteur\n",
    "exactURL = mysummaryURL + http.url[30:]\n",
    "#Récupération du résumé\n",
    "fullresults= requests.get(exactURL).text\n",
    "summaryindex = fullresults.find(\"extract\")\n",
    "summary =fullresults[summaryindex+10:-5]\n",
    "\n",
    "#on vire les caractères spéciaux\n",
    "summary.encode('ascii', 'replace')\n",
    "print(summary)\n"
   ]
  },
  {
   "cell_type": "code",
   "execution_count": 3,
   "metadata": {},
   "outputs": [
    {
     "name": "stdout",
     "output_type": "stream",
     "text": [
      "[['Jean', 'Marie', 'Maurice', 'Sch\\\\u00e9rer', 'or', 'Maurice', 'Henri', 'Joseph', 'Sch\\\\u00e9rer', ',', 'known', 'as', '\\\\u00c9ric', 'Rohmer', '(', 'French', ':', '[', 'e\\\\u0281ik', '\\\\u0281om\\\\u025b\\\\u0281', ']', ',', '21', 'March', '1920', '\\\\u2013', '11', 'January', '2010', ')', ',', 'was', 'a', 'French', 'film', 'director', ',', 'film', 'critic', ',', 'journalist', ',', 'novelist', ',', 'screenwriter', 'and', 'teacher.\\\\nRohmer', 'was', 'the', 'last', 'of', 'the', 'post-World', 'War', 'II', ',', 'French', 'New', 'Wave', 'directors', 'to', 'become', 'established', '.'], ['He', 'edited', 'the', 'influential', 'film', 'journal', ',', 'Cahiers', 'du', 'cin\\\\u00e9ma', ',', 'from', '1957', 'to', '1963', ',', 'while', 'most', 'of', 'his', 'colleagues', '\\\\u2013', 'among', 'them', 'Jean-Luc', 'Godard', 'and', 'Fran\\\\u00e7ois', 'Truffaut', '\\\\u2013', 'were', 'making', 'the', 'transition', 'from', 'film', 'critics', 'to', 'filmmakers', 'and', 'gaining', 'international', 'attention.\\\\nRohmer', 'gained', 'international', 'acclaim', 'around', '1969', 'when', 'his', 'film', 'My', 'Night', 'at', 'Maud', \"'s\", 'was', 'nominated', 'at', 'the', 'Academy', 'Awards', '.'], ['He', 'won', 'the', 'San', 'Sebasti\\\\u00e1n', 'International', 'Film', 'Festival', 'with', 'Claire', \"'s\", 'Knee', 'in', '1971', 'and', 'the', 'Golden', 'Lion', 'at', 'the', 'Venice', 'Film', 'Festival', 'for', 'The', 'Green', 'Ray', 'in', '1986', '.'], ['Rohmer', 'went', 'on', 'to', 'receive', 'the', 'Venice', 'Film', 'Festival', \"'s\", 'Career', 'Golden', 'Lion', 'in', '2001.\\\\nAfter', 'Rohmer', \"'s\", 'death', 'in', '2010', ',', 'his', 'obituary', 'in', 'The', 'Daily', 'Telegraph', 'described', 'him', 'as', '\\\\', \"''\", 'the', 'most', 'durable', 'film-maker', 'of', 'the', 'French', 'New', 'Wave\\\\', \"''\", ',', 'outlasting', 'his', 'peers', 'and', '\\\\', \"''\", 'still', 'making', 'movies', 'the', 'public', 'wanted', 'to', 'see\\\\', \"''\", 'late', 'in', 'his', 'career', '.']]\n"
     ]
    }
   ],
   "source": [
    "sents = sent_tokenize(summary)\n",
    "words=[word_tokenize(sent) for sent in sents]\n",
    "print(words)"
   ]
  },
  {
   "cell_type": "code",
   "execution_count": null,
   "metadata": {
    "collapsed": true
   },
   "outputs": [],
   "source": []
  }
 ],
 "metadata": {
  "kernelspec": {
   "display_name": "Python 3",
   "language": "python",
   "name": "python3"
  },
  "language_info": {
   "codemirror_mode": {
    "name": "ipython",
    "version": 3
   },
   "file_extension": ".py",
   "mimetype": "text/x-python",
   "name": "python",
   "nbconvert_exporter": "python",
   "pygments_lexer": "ipython3",
   "version": "3.6.1"
  }
 },
 "nbformat": 4,
 "nbformat_minor": 2
}
